{
 "cells": [
  {
   "cell_type": "markdown",
   "metadata": {},
   "source": [
    "## Dictionaries"
   ]
  },
  {
   "cell_type": "code",
   "execution_count": null,
   "metadata": {},
   "outputs": [],
   "source": [
    "#simple dictionary\n",
    "alien_0 = {'color':'green','point':5}"
   ]
  },
  {
   "cell_type": "code",
   "execution_count": null,
   "metadata": {},
   "outputs": [],
   "source": [
    "#Access values of dictionary\n",
    "print(aline_0['color'])\n",
    "print(alien_0['point'])\n",
    "\n",
    "new_point = aline_0['point']\n",
    "print(f\"You just earned {new_point} points!\")"
   ]
  },
  {
   "cell_type": "code",
   "execution_count": null,
   "metadata": {},
   "outputs": [],
   "source": [
    "#Adding new key-value\n",
    "alien_0['x_point'] = 0\n",
    "print(alien_0)\n",
    "\n",
    "alien_0['y_point'] = 25\n",
    "print(alien_0)"
   ]
  },
  {
   "cell_type": "code",
   "execution_count": null,
   "metadata": {},
   "outputs": [],
   "source": [
    "#create dictionary from empty\n",
    "alien_0 = {}\n",
    "print(alien_0)\n",
    "\n",
    "alien_0['color'] = \"green\"\n",
    "print(alien_0)\n",
    "alien_0['point'] = 5\n",
    "print(alien_0)"
   ]
  },
  {
   "cell_type": "code",
   "execution_count": null,
   "metadata": {},
   "outputs": [],
   "source": [
    "#example application\n",
    "alien_0 = {'x_position':0,'y_position':25,'speed':'fastest'} #fastest\n",
    "print(f\"Original position: {alien_0['x_position']} , {alien_0['y_position']}\")\n",
    "\n",
    "if alien_0['speed'] == 'slow':\n",
    "    x_increment = 1\n",
    "elif alien_0['speed'] == 'medium':\n",
    "    x_increment = 2\n",
    "else:\n",
    "    x_increment = 3\n",
    "\n",
    "alien_0['x_position'] = alien_0['x_position'] + x_increment\n",
    "print(f\"Original position: {alien_0['x_position']} , {alien_0['y_position']}\")"
   ]
  },
  {
   "cell_type": "code",
   "execution_count": null,
   "metadata": {},
   "outputs": [],
   "source": [
    "#del dictionary\n",
    "alien_0 = {'color':'green','point':5}\n",
    "print(alien_0)\n",
    "\n",
    "del alien_0['point']\n",
    "print(alien_0)"
   ]
  },
  {
   "cell_type": "code",
   "execution_count": null,
   "metadata": {},
   "outputs": [],
   "source": [
    "alien_0 = {'color':'green','point':5}\n",
    "#print(alien_0['speed'])\n",
    "\n",
    "speed_value = alien_0.get(\"speed\",\"no key\")\n",
    "print(speed_value)\n",
    "\n",
    "speed_value = alien_0.get(\"color\",\"no key\")\n",
    "print(speed_value)"
   ]
  },
  {
   "cell_type": "markdown",
   "metadata": {},
   "source": [
    "## Looping though a dictionary"
   ]
  },
  {
   "cell_type": "code",
   "execution_count": null,
   "metadata": {},
   "outputs": [],
   "source": [
    "user_0 = {\n",
    "    'username':\"J6639\",\n",
    "    'first':\"suraphop\",\n",
    "    'last':\"bunsawat\"\n",
    "}\n",
    "print(user_0)"
   ]
  },
  {
   "cell_type": "code",
   "execution_count": null,
   "metadata": {},
   "outputs": [],
   "source": [
    "#return all key-value pairs\n",
    "for key,value in user_0.items():\n",
    "    print(f\"\\nKey : {key}\")\n",
    "    print(f\"\\nValue: {value}\")"
   ]
  },
  {
   "cell_type": "code",
   "execution_count": null,
   "metadata": {},
   "outputs": [],
   "source": [
    "# only keys\n",
    "for key in user_0.keys():\n",
    "    print(f\"\\nKey : {key}\")"
   ]
  },
  {
   "cell_type": "code",
   "execution_count": null,
   "metadata": {},
   "outputs": [],
   "source": [
    "#only keys but no have keys()\n",
    "for key in user_0:\n",
    "    print(f\"\\nKey : {key}\")"
   ]
  },
  {
   "cell_type": "code",
   "execution_count": null,
   "metadata": {},
   "outputs": [],
   "source": [
    "#only values\n",
    "for value in user_0.values():\n",
    "    print(f\"\\nValue: {value}\")"
   ]
  },
  {
   "cell_type": "markdown",
   "metadata": {},
   "source": [
    "## Nesting"
   ]
  },
  {
   "cell_type": "code",
   "execution_count": null,
   "metadata": {},
   "outputs": [],
   "source": [
    "#list of dictionary\n",
    "alien_0 = {'color':\"green\",'point':5}\n",
    "alien_1 = {'color':\"yellow\",'point':10}\n",
    "alien_2 = {'color':\"red\",'point':15}\n",
    "\n",
    "aliens = [alien_0,alien_1,alien_2]\n",
    "\n",
    "for alien in aliens:\n",
    "    print(alien)"
   ]
  },
  {
   "cell_type": "code",
   "execution_count": null,
   "metadata": {},
   "outputs": [],
   "source": [
    "#list of dictionary to empty list\n",
    "aliens = []\n",
    "\n",
    "for alien_number in range(30):\n",
    "    new_alien = {'color':\"green\",'point':5,'speed':\"slow\"}\n",
    "    aliens.append(new_alien)\n",
    "\n",
    "for alien in aliens[:5]:\n",
    "    print(alien)\n",
    "print(\"...\")\n",
    "\n",
    "print(f\"Total number of aliens : {len(aliens)}\")"
   ]
  },
  {
   "cell_type": "code",
   "execution_count": 47,
   "metadata": {},
   "outputs": [
    {
     "name": "stdout",
     "output_type": "stream",
     "text": [
      "You ordered a thick-crust pizza\n",
      "\tadding: mushrooms\n",
      "\tadding: cheese\n"
     ]
    }
   ],
   "source": [
    "#list in dictionary\n",
    "pizza = {\n",
    "    'crust':\"thick\",\n",
    "    'toppings':[\"mushrooms\",\"cheese\"]\n",
    "}\n",
    "\n",
    "print(f\"You ordered a {pizza['crust']}-crust pizza\")\n",
    "\n",
    "for topping in pizza['toppings']:\n",
    "    print(f\"\\tadding: {topping}\")"
   ]
  },
  {
   "cell_type": "code",
   "execution_count": 50,
   "metadata": {},
   "outputs": [
    {
     "name": "stdout",
     "output_type": "stream",
     "text": [
      "\n",
      "Username : aeinstein\n",
      "\tFull name: Albert Einstein\n",
      "\tLocation: Princeton\n",
      "\n",
      "Username : mcurie\n",
      "\tFull name: Marie Curie\n",
      "\tLocation: Paris\n"
     ]
    }
   ],
   "source": [
    "#dict in dict\n",
    "\n",
    "user = {\n",
    "    'aeinstein':{\n",
    "        'first': \"albert\",\n",
    "        'last': \"einstein\",\n",
    "        'location': \"princeton\"\n",
    "    },\n",
    "    'mcurie':{\n",
    "        'first': \"marie\",\n",
    "        'last': \"curie\",\n",
    "        'location': \"paris\"\n",
    "    }\n",
    "}\n",
    "\n",
    "for username,user_info in user.items():\n",
    "    print(f\"\\nUsername : {username}\")\n",
    "    full_name = f\"{user_info['first']} {user_info['last']}\"\n",
    "    location = user_info['location']\n",
    "\n",
    "    print(f\"\\tFull name: {full_name.title()}\")\n",
    "    print(f\"\\tLocation: {location.title()}\")"
   ]
  }
 ],
 "metadata": {
  "interpreter": {
   "hash": "66d20474a42c598064e4631ab4cf6e4658baa00707e682b325cee07a1775202e"
  },
  "kernelspec": {
   "display_name": "Python 3.9.5 ('basic_python')",
   "language": "python",
   "name": "python3"
  },
  "language_info": {
   "codemirror_mode": {
    "name": "ipython",
    "version": 3
   },
   "file_extension": ".py",
   "mimetype": "text/x-python",
   "name": "python",
   "nbconvert_exporter": "python",
   "pygments_lexer": "ipython3",
   "version": "3.9.7"
  },
  "orig_nbformat": 4
 },
 "nbformat": 4,
 "nbformat_minor": 2
}

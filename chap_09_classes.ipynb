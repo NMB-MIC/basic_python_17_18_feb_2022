{
 "cells": [
  {
   "cell_type": "markdown",
   "metadata": {},
   "source": [
    "## Classes"
   ]
  },
  {
   "cell_type": "code",
   "execution_count": 17,
   "metadata": {},
   "outputs": [],
   "source": [
    "#create a dog class\n",
    "class Dog:\n",
    "    \"\"\"collect Dog specifics\"\"\"\n",
    "    def __init__(self,name,age): #attribute\n",
    "        self.name = name\n",
    "        self.age = age\n",
    "    \n",
    "    def sit(self): #method\n",
    "        \"\"\"dog sitting\"\"\"\n",
    "        print(f\"{self.name} is now sitting.\")\n",
    "\n",
    "    def roll_over(self):\n",
    "        \"\"\"dog roll over\"\"\"\n",
    "        print(f\"{self.name} is now rolled over!.\")"
   ]
  },
  {
   "cell_type": "code",
   "execution_count": 18,
   "metadata": {},
   "outputs": [],
   "source": [
    "#making instance \n",
    "my_dog = Dog(\"willi\",6)"
   ]
  },
  {
   "cell_type": "code",
   "execution_count": 19,
   "metadata": {},
   "outputs": [
    {
     "name": "stdout",
     "output_type": "stream",
     "text": [
      "My dog's name is willi.\n",
      "My dog is 6 year old.\n"
     ]
    }
   ],
   "source": [
    "#access attribute\n",
    "print(f\"My dog's name is {my_dog.name}.\")\n",
    "print(f\"My dog is {my_dog.age} year old.\")"
   ]
  },
  {
   "cell_type": "code",
   "execution_count": 20,
   "metadata": {},
   "outputs": [
    {
     "name": "stdout",
     "output_type": "stream",
     "text": [
      "willi is now sitting.\n",
      "willi is now rolled over!.\n"
     ]
    }
   ],
   "source": [
    "#calling method\n",
    "my_dog.sit()\n",
    "my_dog.roll_over()"
   ]
  },
  {
   "cell_type": "code",
   "execution_count": 21,
   "metadata": {},
   "outputs": [],
   "source": [
    "#create another instance\n",
    "your_dog = Dog(\"Lucy\",3)"
   ]
  },
  {
   "cell_type": "code",
   "execution_count": 22,
   "metadata": {},
   "outputs": [
    {
     "name": "stdout",
     "output_type": "stream",
     "text": [
      "your dog's name is Lucy.\n",
      "your dog is 3 years old.\n"
     ]
    }
   ],
   "source": [
    "#access attributes\n",
    "print(f\"your dog's name is {your_dog.name}.\")\n",
    "print(f\"your dog is {your_dog.age} years old.\")"
   ]
  },
  {
   "cell_type": "code",
   "execution_count": 23,
   "metadata": {},
   "outputs": [
    {
     "name": "stdout",
     "output_type": "stream",
     "text": [
      "willi is now sitting.\n",
      "Lucy is now sitting.\n"
     ]
    }
   ],
   "source": [
    "#calling method\n",
    "my_dog.sit()\n",
    "your_dog.sit()"
   ]
  },
  {
   "cell_type": "markdown",
   "metadata": {},
   "source": [
    "## Working with instance and class"
   ]
  },
  {
   "cell_type": "code",
   "execution_count": 78,
   "metadata": {},
   "outputs": [
    {
     "name": "stdout",
     "output_type": "stream",
     "text": [
      "2021 Audi A4\n"
     ]
    }
   ],
   "source": [
    "class Car:\n",
    "    \"\"\"my car\"\"\"\n",
    "    def __init__(self,maker,model,year):\n",
    "        self.maker = maker\n",
    "        self.model = model\n",
    "        self.year = year\n",
    "        self.odometer_reading = 0 #intenal attribute\n",
    "    \n",
    "    def get_descriptive_name(self):\n",
    "        \"\"\"show detail a car\"\"\"\n",
    "        long_name = f\"{self.year} {self.maker} {self.model}\"\n",
    "        return long_name.title()\n",
    "    \n",
    "    def read_odometer(self):\n",
    "        \"\"\"reading odometer\"\"\"\n",
    "        print(f\"This car has {self.odometer_reading} miles on it.\")\n",
    "    \n",
    "    def update_odometer(self,mileage):\n",
    "        \"\"\"set the odometer reading to the given value.\"\"\"\n",
    "        if mileage >= self.odometer_reading:\n",
    "            self.odometer_reading = mileage\n",
    "        else:\n",
    "            print(\"You can't roll back an odometer!!\")\n",
    "    \n",
    "    def increment_odometer(self,miles):\n",
    "        \"\"\"Add the diven amount to the odometer reading.\"\"\"\n",
    "        self.odometer_reading += miles\n",
    "    \n",
    "    def fill_gas_tank(self):\n",
    "        \"\"\"checking the car need gas\"\"\"\n",
    "        print(\"This car need a gas tank!\")\n",
    "\n",
    "my_new_car = Car(\"audi\",\"a4\",2021) #instance\n",
    "print(my_new_car.get_descriptive_name()) # calling method"
   ]
  },
  {
   "cell_type": "code",
   "execution_count": 37,
   "metadata": {},
   "outputs": [
    {
     "name": "stdout",
     "output_type": "stream",
     "text": [
      "This car has 0 miles on it.\n"
     ]
    }
   ],
   "source": [
    "# setting a default value for an attribute\n",
    "my_new_car.read_odometer()"
   ]
  },
  {
   "cell_type": "code",
   "execution_count": 34,
   "metadata": {},
   "outputs": [
    {
     "name": "stdout",
     "output_type": "stream",
     "text": [
      "This car has 20 miles on it.\n"
     ]
    }
   ],
   "source": [
    "#modify attribute values directly\n",
    "my_new_car.odometer_reading = 20\n",
    "my_new_car.read_odometer()"
   ]
  },
  {
   "cell_type": "code",
   "execution_count": 45,
   "metadata": {},
   "outputs": [
    {
     "name": "stdout",
     "output_type": "stream",
     "text": [
      "You can't roll back an odometer!!\n",
      "This car has 50 miles on it.\n"
     ]
    }
   ],
   "source": [
    "#modify an attribute's value through a method\n",
    "my_new_car.update_odometer(40)\n",
    "my_new_car.read_odometer()"
   ]
  },
  {
   "cell_type": "code",
   "execution_count": 65,
   "metadata": {},
   "outputs": [
    {
     "name": "stdout",
     "output_type": "stream",
     "text": [
      "This car has 73 miles on it.\n"
     ]
    }
   ],
   "source": [
    "#modify an attribute's value with increment method\n",
    "my_new_car.increment_odometer(1)\n",
    "my_new_car.read_odometer()"
   ]
  },
  {
   "cell_type": "code",
   "execution_count": 81,
   "metadata": {},
   "outputs": [
    {
     "name": "stdout",
     "output_type": "stream",
     "text": [
      "2015 Subaru Outback\n",
      "This car has 23500 miles on it.\n",
      "This car has 23600 miles on it.\n"
     ]
    }
   ],
   "source": [
    "#my 2nd cars reuse class\n",
    "my_used_car = Car(\"subaru\",\"outback\",2015)\n",
    "print(my_used_car.get_descriptive_name())\n",
    "\n",
    "my_used_car.update_odometer(23_500)\n",
    "my_used_car.read_odometer()\n",
    "my_used_car.increment_odometer(100)\n",
    "my_used_car.read_odometer()"
   ]
  },
  {
   "cell_type": "markdown",
   "metadata": {},
   "source": [
    "## Inheritance\n",
    "\n",
    "- The original class is called the parant class\n",
    "- The new class is the child class"
   ]
  },
  {
   "cell_type": "code",
   "execution_count": 93,
   "metadata": {},
   "outputs": [
    {
     "name": "stdout",
     "output_type": "stream",
     "text": [
      "Model S Tesla 2022\n"
     ]
    }
   ],
   "source": [
    "#define child class\n",
    "\n",
    "class Batterry:\n",
    "    \"\"\"Represent detail of a batterryspecific\"\"\"\n",
    "    def __init__(self,battery_size=75):\n",
    "        self.battery_size = int(battery_size)\n",
    "\n",
    "    def describe_batterry(self):\n",
    "        \"\"\"show size of batterry\"\"\"\n",
    "        print(f\"This car has a {self.battery_size}-kwh battery.\")\n",
    "    \n",
    "    def get_range(self):\n",
    "        \"\"\" show maximum distance compare battery size\"\"\"\n",
    "        if self.battery_size == 75:\n",
    "            range = 260\n",
    "        elif self.battery_size == 100:\n",
    "            range = 315\n",
    "        print(f\"This car can go about {range} miles on a full charge.\")\n",
    "\n",
    "\n",
    "class ElectricCar(Car):\n",
    "    \"\"\"Represent aspects of a car, specific to electric car\"\"\"\n",
    "    def __init__(self,maker,year,model,battery_size):\n",
    "        super().__init__(maker,model,year)\n",
    "        #self.battery_size = 75 #move to battery class\n",
    "        self.battery = Batterry(battery_size)\n",
    "    '''\n",
    "    def describe_batterry(self): #move to battery class\n",
    "        \"\"\"show size of batterry\"\"\"\n",
    "        print(f\"This car has a {self.battery_size}-kwh battery.\")\n",
    "    '''\n",
    "    def fill_gas_tank(self):\n",
    "        \"\"\"checking the car doesn't need gas\"\"\"\n",
    "        print(\"This car doesn't need a gas tank!\")\n",
    "\n",
    "my_tesla = ElectricCar(\"tesla\",\"model s\",\"2022\",\"100\")\n",
    "print(my_tesla.get_descriptive_name())"
   ]
  },
  {
   "cell_type": "code",
   "execution_count": 76,
   "metadata": {},
   "outputs": [
    {
     "name": "stdout",
     "output_type": "stream",
     "text": [
      "This car has a 75-kwh battery.\n"
     ]
    }
   ],
   "source": [
    "#define attribute and methods for the child class\n",
    "my_tesla.describe_batterry()"
   ]
  },
  {
   "cell_type": "code",
   "execution_count": 83,
   "metadata": {},
   "outputs": [
    {
     "name": "stdout",
     "output_type": "stream",
     "text": [
      "This car doesn't need a gas tank!\n",
      "This car need a gas tank!\n"
     ]
    }
   ],
   "source": [
    "#Overriding methods from the parent class\n",
    "my_tesla.fill_gas_tank()\n",
    "my_used_car.fill_gas_tank()"
   ]
  },
  {
   "cell_type": "code",
   "execution_count": 86,
   "metadata": {},
   "outputs": [
    {
     "name": "stdout",
     "output_type": "stream",
     "text": [
      "This car has a 75-kwh battery.\n"
     ]
    }
   ],
   "source": [
    "#instances as attribute\n",
    "my_tesla.battery.describe_batterry()"
   ]
  },
  {
   "cell_type": "code",
   "execution_count": 95,
   "metadata": {},
   "outputs": [
    {
     "name": "stdout",
     "output_type": "stream",
     "text": [
      "This car can go about 315 miles on a full charge.\n"
     ]
    }
   ],
   "source": [
    "#instances as attribute input battery size to instance\n",
    "my_tesla.battery.get_range()"
   ]
  }
 ],
 "metadata": {
  "interpreter": {
   "hash": "66d20474a42c598064e4631ab4cf6e4658baa00707e682b325cee07a1775202e"
  },
  "kernelspec": {
   "display_name": "Python 3.9.5 ('basic_python')",
   "language": "python",
   "name": "python3"
  },
  "language_info": {
   "codemirror_mode": {
    "name": "ipython",
    "version": 3
   },
   "file_extension": ".py",
   "mimetype": "text/x-python",
   "name": "python",
   "nbconvert_exporter": "python",
   "pygments_lexer": "ipython3",
   "version": "3.9.7"
  },
  "orig_nbformat": 4
 },
 "nbformat": 4,
 "nbformat_minor": 2
}

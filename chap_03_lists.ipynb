{
 "cells": [
  {
   "cell_type": "markdown",
   "metadata": {},
   "source": [
    "## Lists"
   ]
  },
  {
   "cell_type": "code",
   "execution_count": 1,
   "metadata": {},
   "outputs": [
    {
     "name": "stdout",
     "output_type": "stream",
     "text": [
      "trek\n",
      "['trek', 'cannonle', 'redline', 'specialized']\n"
     ]
    }
   ],
   "source": [
    "#simple lists\n",
    "bicyble = \"trek\"\n",
    "print(bicyble)\n",
    "\n",
    "bicycles = [\"trek\",\"cannonle\",\"redline\",\"specialized\"]\n",
    "print(bicycles)"
   ]
  },
  {
   "cell_type": "markdown",
   "metadata": {},
   "source": [
    "## Accessing elements in a list"
   ]
  },
  {
   "cell_type": "code",
   "execution_count": 2,
   "metadata": {},
   "outputs": [
    {
     "name": "stdout",
     "output_type": "stream",
     "text": [
      "trek\n",
      "Trek\n",
      "TREK\n",
      "trek\n",
      "redline\n",
      "specialized\n",
      "redline\n",
      "My first bicycle was a Trek\n"
     ]
    }
   ],
   "source": [
    "print(bicycles[0])\n",
    "print(bicycles[0].title())\n",
    "print(bicycles[0].upper())\n",
    "print(bicycles[0].lower())\n",
    "\n",
    "print(bicycles[2])\n",
    "\n",
    "print(bicycles[-1])\n",
    "print(bicycles[-2])\n",
    "\n",
    "print(f\"My first bicycle was a {bicycles[0].title()}\")"
   ]
  },
  {
   "cell_type": "markdown",
   "metadata": {},
   "source": [
    "## Modify elements in a list"
   ]
  },
  {
   "cell_type": "code",
   "execution_count": 3,
   "metadata": {},
   "outputs": [
    {
     "name": "stdout",
     "output_type": "stream",
     "text": [
      "['honda', 'yamaha', 'suzuki']\n",
      "['ducati', 'yamaha', 'suzuki']\n",
      "['ducati', 'yamaha', 'vespa']\n"
     ]
    }
   ],
   "source": [
    "motorcycles = ['honda','yamaha','suzuki']\n",
    "print(motorcycles)\n",
    "\n",
    "# change a value in lists\n",
    "motorcycles[0] = \"ducati\"\n",
    "print(motorcycles)\n",
    "\n",
    "motorcycles[-1] = \"vespa\"\n",
    "print(motorcycles)"
   ]
  },
  {
   "cell_type": "markdown",
   "metadata": {},
   "source": [
    "## Appending elements to lists"
   ]
  },
  {
   "cell_type": "code",
   "execution_count": 4,
   "metadata": {},
   "outputs": [
    {
     "name": "stdout",
     "output_type": "stream",
     "text": [
      "['ducati', 'yamaha', 'vespa', 'bmw']\n"
     ]
    }
   ],
   "source": [
    "#add more values\n",
    "motorcycles.append(\"bmw\")\n",
    "print(motorcycles)"
   ]
  },
  {
   "cell_type": "code",
   "execution_count": 5,
   "metadata": {},
   "outputs": [
    {
     "name": "stdout",
     "output_type": "stream",
     "text": [
      "[]\n",
      "['honda']\n",
      "['honda', 'yamaha']\n",
      "['honda', 'yamaha', 'suzuki']\n"
     ]
    }
   ],
   "source": [
    "#appending in empty list\n",
    "motorcycles = []\n",
    "print(motorcycles)\n",
    "\n",
    "motorcycles.append(\"honda\")\n",
    "print(motorcycles)\n",
    "\n",
    "motorcycles.append(\"yamaha\")\n",
    "print(motorcycles)\n",
    "\n",
    "motorcycles.append(\"suzuki\")\n",
    "print(motorcycles)"
   ]
  },
  {
   "cell_type": "markdown",
   "metadata": {},
   "source": [
    "## Insert elements into lists"
   ]
  },
  {
   "cell_type": "code",
   "execution_count": 6,
   "metadata": {},
   "outputs": [
    {
     "name": "stdout",
     "output_type": "stream",
     "text": [
      "['ducati', 'honda', 'yamaha', 'suzuki']\n",
      "['ducati', 'bmw', 'honda', 'yamaha', 'suzuki']\n"
     ]
    }
   ],
   "source": [
    "#insert\n",
    "motorcycles.insert(0,\"ducati\")\n",
    "print(motorcycles)\n",
    "\n",
    "motorcycles.insert(1,\"bmw\")\n",
    "print(motorcycles)"
   ]
  },
  {
   "cell_type": "markdown",
   "metadata": {},
   "source": [
    "## Removing an item in lists"
   ]
  },
  {
   "cell_type": "code",
   "execution_count": 8,
   "metadata": {},
   "outputs": [
    {
     "name": "stdout",
     "output_type": "stream",
     "text": [
      "['honda', 'yamaha', 'suzuki']\n",
      "['yamaha', 'suzuki']\n"
     ]
    }
   ],
   "source": [
    "motorcycles = [\"honda\",\"yamaha\",\"suzuki\"]\n",
    "print(motorcycles)\n",
    "\n",
    "#del\n",
    "del motorcycles[0]\n",
    "print(motorcycles)"
   ]
  },
  {
   "cell_type": "code",
   "execution_count": 13,
   "metadata": {},
   "outputs": [
    {
     "name": "stdout",
     "output_type": "stream",
     "text": [
      "['honda', 'yamaha', 'suzuki']\n",
      "['honda', 'yamaha']\n",
      "suzuki\n"
     ]
    }
   ],
   "source": [
    "#pop\n",
    "motorcycles = [\"honda\",\"yamaha\",\"suzuki\"]\n",
    "print(motorcycles)\n",
    "\n",
    "popped_motorcycles = motorcycles.pop()\n",
    "#popped_motorcycles = motorcycles.pop(1)\n",
    "print(motorcycles)\n",
    "print(popped_motorcycles)"
   ]
  },
  {
   "cell_type": "code",
   "execution_count": 15,
   "metadata": {},
   "outputs": [
    {
     "name": "stdout",
     "output_type": "stream",
     "text": [
      "['honda', 'yamaha', 'suzuki']\n",
      "['honda', 'suzuki']\n"
     ]
    }
   ],
   "source": [
    "#remove\n",
    "motorcycles = [\"honda\",\"yamaha\",\"suzuki\"]\n",
    "print(motorcycles)\n",
    "\n",
    "motorcycles.remove(\"yamaha\")\n",
    "print(motorcycles)"
   ]
  },
  {
   "cell_type": "markdown",
   "metadata": {},
   "source": [
    "## Organizing a list"
   ]
  },
  {
   "cell_type": "code",
   "execution_count": 18,
   "metadata": {},
   "outputs": [
    {
     "name": "stdout",
     "output_type": "stream",
     "text": [
      "['bmw', 'audi', 'toyota', 'subaru']\n",
      "['audi', 'bmw', 'subaru', 'toyota']\n"
     ]
    }
   ],
   "source": [
    "#sorting a list permanently\n",
    "cars = [\"bmw\",\"audi\",\"toyota\",\"subaru\"]\n",
    "print(cars)\n",
    "\n",
    "cars.sort()\n",
    "print(cars)"
   ]
  },
  {
   "cell_type": "code",
   "execution_count": 19,
   "metadata": {},
   "outputs": [
    {
     "name": "stdout",
     "output_type": "stream",
     "text": [
      "['toyota', 'subaru', 'bmw', 'audi']\n"
     ]
    }
   ],
   "source": [
    "#reverse permanently sort\n",
    "cars.sort(reverse=True)\n",
    "print(cars)"
   ]
  },
  {
   "cell_type": "code",
   "execution_count": 21,
   "metadata": {},
   "outputs": [
    {
     "name": "stdout",
     "output_type": "stream",
     "text": [
      "\n",
      " Here is the sorted list: \n",
      "['audi', 'bmw', 'subaru', 'toyota']\n",
      "Here is the original list: \n",
      "['toyota', 'subaru', 'bmw', 'audi']\n"
     ]
    }
   ],
   "source": [
    "#temp sorted \n",
    "print(\"\\n Here is the sorted list: \")\n",
    "print(sorted(cars))\n",
    "\n",
    "print(\"Here is the original list: \")\n",
    "print(cars)"
   ]
  },
  {
   "cell_type": "markdown",
   "metadata": {},
   "source": [
    "## List lenght"
   ]
  },
  {
   "cell_type": "code",
   "execution_count": 22,
   "metadata": {},
   "outputs": [
    {
     "name": "stdout",
     "output_type": "stream",
     "text": [
      "lenght of list : 4\n"
     ]
    }
   ],
   "source": [
    "# count the lenght of a list\n",
    "print(f\"lenght of list : {len(cars)}\")"
   ]
  }
 ],
 "metadata": {
  "interpreter": {
   "hash": "66d20474a42c598064e4631ab4cf6e4658baa00707e682b325cee07a1775202e"
  },
  "kernelspec": {
   "display_name": "Python 3.9.5 ('basic_python')",
   "language": "python",
   "name": "python3"
  },
  "language_info": {
   "codemirror_mode": {
    "name": "ipython",
    "version": 3
   },
   "file_extension": ".py",
   "mimetype": "text/x-python",
   "name": "python",
   "nbconvert_exporter": "python",
   "pygments_lexer": "ipython3",
   "version": "3.9.5"
  },
  "orig_nbformat": 4
 },
 "nbformat": 4,
 "nbformat_minor": 2
}

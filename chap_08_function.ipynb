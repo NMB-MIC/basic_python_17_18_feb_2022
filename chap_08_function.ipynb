{
 "cells": [
  {
   "cell_type": "markdown",
   "metadata": {},
   "source": [
    "## Function"
   ]
  },
  {
   "cell_type": "code",
   "execution_count": null,
   "metadata": {},
   "outputs": [],
   "source": [
    "print(\"Hello !\")"
   ]
  },
  {
   "cell_type": "code",
   "execution_count": null,
   "metadata": {},
   "outputs": [],
   "source": [
    "#simple function\n",
    "def greet_user():\n",
    "    \"\"\"display greeting\"\"\"\n",
    "    print(\"Hello !\")\n",
    "\n",
    "greet_user()\n",
    "greet_user()"
   ]
  },
  {
   "cell_type": "code",
   "execution_count": null,
   "metadata": {},
   "outputs": [],
   "source": [
    "#passing information to a function\n",
    "def greet_user2(username):\n",
    "    \"\"\"display greeting username\"\"\"\n",
    "    print(f\"Hello, {username.title()}\")\n",
    "\n",
    "greet_user2(\"suraphop\")"
   ]
  },
  {
   "cell_type": "markdown",
   "metadata": {},
   "source": [
    "## Aguments and Parameters"
   ]
  },
  {
   "cell_type": "code",
   "execution_count": null,
   "metadata": {},
   "outputs": [],
   "source": [
    "#Positional argument\n",
    "def describe_pet(animal_type,pet_name):\n",
    "    \"\"\"display information about a pet.\"\"\"\n",
    "    print(f\"\\nI have a {animal_type}.\")\n",
    "    print(f\"My {animal_type}'s name is {pet_name.title()}\")\n",
    "\n",
    "describe_pet(\"hamster\",\"harry\")\n",
    "\n",
    "describe_pet(\"harry\",\"hamster\")"
   ]
  },
  {
   "cell_type": "code",
   "execution_count": null,
   "metadata": {},
   "outputs": [],
   "source": [
    "#keyword arguments\n",
    "describe_pet(animal_type=\"hamster\",pet_name=\"harry\")\n",
    "describe_pet(pet_name=\"harry\",animal_type=\"hamster\")"
   ]
  },
  {
   "cell_type": "code",
   "execution_count": null,
   "metadata": {},
   "outputs": [],
   "source": [
    "#default values\n",
    "def describe_pet(pet_name,animal_type=\"dog\"):\n",
    "    \"\"\"display information about a pet.\"\"\"\n",
    "    print(f\"\\nI have a {animal_type}.\")\n",
    "    print(f\"My {animal_type}'s name is {pet_name.title()}\")\n",
    "\n",
    "describe_pet(pet_name=\"willie\")\n",
    "describe_pet(pet_name=\"lanlan\",animal_type=\"cat\")"
   ]
  },
  {
   "cell_type": "code",
   "execution_count": null,
   "metadata": {},
   "outputs": [],
   "source": [
    "#Equivalent function calls\n",
    "#default values\n",
    "describe_pet('willie')\n",
    "describe_pet(pet_name=\"willie\")\n",
    "\n",
    "describe_pet(\"hamster\",\"harry\")\n",
    "describe_pet(animal_type=\"hamster\",pet_name=\"harry\")\n",
    "describe_pet(pet_name=\"harry\",animal_type=\"hamster\")"
   ]
  },
  {
   "cell_type": "markdown",
   "metadata": {},
   "source": [
    "## Return values"
   ]
  },
  {
   "cell_type": "code",
   "execution_count": null,
   "metadata": {},
   "outputs": [],
   "source": [
    "# a simple value\n",
    "def get_formatted_name(first_name,last_name):\n",
    "    \"\"\"display full name\"\"\"\n",
    "    full_name = f\"{first_name} {last_name}\"\n",
    "    return full_name.title()\n",
    "\n",
    "musician = get_formatted_name(\"jimi\",\"hendrix\")\n",
    "print(musician)"
   ]
  },
  {
   "cell_type": "markdown",
   "metadata": {},
   "source": [
    "#### example\n",
    "problem: can formatted name that have middle name or none in function\n",
    "\n",
    "- return have middle name\n",
    "- return no have middle name"
   ]
  },
  {
   "cell_type": "code",
   "execution_count": null,
   "metadata": {},
   "outputs": [],
   "source": [
    "#making an argument optional\n",
    "def get_formatted_name(first_name,last_name,middle_name=''):\n",
    "    \"\"\"display full name\"\"\"\n",
    "    if middle_name:\n",
    "        full_name = f\"{first_name} {middle_name} {last_name}\"\n",
    "    else:\n",
    "        full_name = f\"{first_name} {last_name}\"\n",
    "    return full_name.title()\n",
    "\n",
    "musician = get_formatted_name(first_name=\"jimi\",last_name=\"hendrix\")\n",
    "print(musician)\n",
    "\n",
    "musician = get_formatted_name(first_name=\"jimi\",last_name=\"hendrix\",middle_name=\"lee\")\n",
    "print(musician)"
   ]
  },
  {
   "cell_type": "code",
   "execution_count": null,
   "metadata": {},
   "outputs": [],
   "source": [
    "#Returning a dictionary\n",
    "def build_person(first_name,last_name):\n",
    "    \"\"\"display person in dictionary\"\"\"\n",
    "    person = {'first':first_name,'last':last_name}\n",
    "    return person\n",
    "    \n",
    "musician = build_person(first_name=\"jimi\",last_name=\"hendrix\")\n",
    "print(musician)"
   ]
  },
  {
   "cell_type": "code",
   "execution_count": null,
   "metadata": {},
   "outputs": [],
   "source": [
    "#optional argument\n",
    "def build_person(first_name,last_name,age=None):\n",
    "    \"\"\"display person in dictionary\"\"\"\n",
    "    person = {'first':first_name,'last':last_name}\n",
    "    if age:\n",
    "        person['age'] = age\n",
    "    return person\n",
    "\n",
    "musician = build_person(first_name=\"jimi\",last_name=\"hendrix\")\n",
    "print(musician)\n",
    "\n",
    "musician = build_person(first_name=\"jimi\",last_name=\"hendrix\",age=25)\n",
    "print(musician)"
   ]
  },
  {
   "cell_type": "code",
   "execution_count": null,
   "metadata": {},
   "outputs": [],
   "source": [
    "#Using a function with a while loop\n",
    "def get_formatted_name(first_name,last_name):\n",
    "    \"\"\"display full name\"\"\"\n",
    "    full_name = f\"{first_name} {last_name}\"\n",
    "    return full_name.title()\n",
    "\n",
    "while True:\n",
    "    print(\"\\nPlease tell me your name:\")\n",
    "    print(\"enter 'q' at any time to quit!!\")\n",
    "    \n",
    "    f_name = input(\"First name:\")\n",
    "    if f_name==\"q\":\n",
    "        break\n",
    "    l_name = input(\"Last name:\")\n",
    "    if l_name==\"q\":\n",
    "        break\n",
    "\n",
    "    formatted_name = get_formatted_name(f_name,l_name)\n",
    "    print(formatted_name)"
   ]
  },
  {
   "cell_type": "markdown",
   "metadata": {},
   "source": [
    "## Passing a list"
   ]
  },
  {
   "cell_type": "code",
   "execution_count": null,
   "metadata": {},
   "outputs": [],
   "source": [
    "def greet_user(name):\n",
    "    \"\"\"display greeting\"\"\"\n",
    "    print(f\"Hello ! {name.title()}\")\n",
    "\n",
    "greet_user(\"suraphop\")"
   ]
  },
  {
   "cell_type": "code",
   "execution_count": null,
   "metadata": {},
   "outputs": [],
   "source": [
    "def greet_user(names):\n",
    "    \"\"\"display greeting in each user in the list\"\"\"\n",
    "    for name in names:\n",
    "        msg = f\"Hello ! {name.title()}\"\n",
    "        print(msg)\n",
    "\n",
    "usernames = [\"hannah\",\"ty\",\"margot\"]\n",
    "greet_user(usernames)"
   ]
  },
  {
   "cell_type": "markdown",
   "metadata": {},
   "source": [
    "## Example\n",
    "problem : convert the printing program in to a function"
   ]
  },
  {
   "cell_type": "code",
   "execution_count": 81,
   "metadata": {},
   "outputs": [
    {
     "name": "stdout",
     "output_type": "stream",
     "text": [
      "Print model: dodecahedron\n",
      "Print model: robot pendant\n",
      "Print model: phone case\n",
      "\n",
      "The following models have been printed: \n",
      "dodecahedron\n",
      "robot pendant\n",
      "phone case\n"
     ]
    }
   ],
   "source": [
    "#the printing program\n",
    "unprinted_designs = [\"phone case\",\"robot pendant\",\"dodecahedron\"]\n",
    "completed_models = []\n",
    "\n",
    "while unprinted_designs:\n",
    "    current_design = unprinted_designs.pop()\n",
    "    print(f\"Print model: {current_design}\")\n",
    "    completed_models.append(current_design)\n",
    "\n",
    "#result\n",
    "print(\"\\nThe following models have been printed: \")\n",
    "for completed_model in completed_models:\n",
    "    print(completed_model)"
   ]
  },
  {
   "cell_type": "code",
   "execution_count": 80,
   "metadata": {},
   "outputs": [
    {
     "name": "stdout",
     "output_type": "stream",
     "text": [
      "Print model: dodecahedron\n",
      "Print model: robot pendant\n",
      "Print model: phone case\n",
      "\n",
      "The following models have been printed: \n",
      "dodecahedron\n",
      "robot pendant\n",
      "phone case\n"
     ]
    }
   ],
   "source": [
    "#convert into a function form\n",
    "unprinted_designs = [\"phone case\",\"robot pendant\",\"dodecahedron\"]\n",
    "completed_models = []\n",
    "\n",
    "def print_model(unprinted_designs,completed_models):\n",
    "    \"\"\"printing model\"\"\"\n",
    "    while unprinted_designs:\n",
    "        current_design = unprinted_designs.pop()\n",
    "        print(f\"Print model: {current_design}\")\n",
    "        completed_models.append(current_design)\n",
    "\n",
    "def show_completed_model(completed_models):\n",
    "    \"\"\"show the models all complete printing\"\"\"\n",
    "    print(\"\\nThe following models have been printed: \")\n",
    "    for completed_model in completed_models:\n",
    "        print(completed_model)\n",
    "\n",
    "print_model(unprinted_designs,completed_models)\n",
    "show_completed_model(completed_models)"
   ]
  },
  {
   "cell_type": "markdown",
   "metadata": {},
   "source": [
    "## Passing an Arbitrary number of arguments"
   ]
  },
  {
   "cell_type": "code",
   "execution_count": null,
   "metadata": {},
   "outputs": [],
   "source": [
    "#a simple arbitrary number\n",
    "def make_pizza(toppings):\n",
    "    print(toppings)\n",
    "\n",
    "make_pizza(\"pepperoni\")"
   ]
  },
  {
   "cell_type": "code",
   "execution_count": 78,
   "metadata": {},
   "outputs": [
    {
     "name": "stdout",
     "output_type": "stream",
     "text": [
      "('pepperoni',)\n",
      "('pepperoni', 'mushroom', 'extra cheese')\n"
     ]
    }
   ],
   "source": [
    "#a simple arbitrary number\n",
    "def make_pizza(*toppings):\n",
    "    print(toppings)\n",
    "\n",
    "make_pizza(\"pepperoni\")\n",
    "make_pizza(\"pepperoni\",\"mushroom\",\"extra cheese\")"
   ]
  },
  {
   "cell_type": "code",
   "execution_count": 79,
   "metadata": {},
   "outputs": [
    {
     "name": "stdout",
     "output_type": "stream",
     "text": [
      "\n",
      "Making a pizza with the following toppings:\n",
      "- pepperoni\n",
      "\n",
      "Making a pizza with the following toppings:\n",
      "- pepperoni\n",
      "- mushroom\n",
      "- extra cheese\n"
     ]
    }
   ],
   "source": [
    "#access arbitary\n",
    "def make_pizza(*toppings):\n",
    "    print(f\"\\nMaking a pizza with the following toppings:\")\n",
    "    for topping in toppings:\n",
    "      print(f\"- {topping}\")\n",
    "\n",
    "make_pizza(\"pepperoni\")\n",
    "make_pizza(\"pepperoni\",\"mushroom\",\"extra cheese\")     "
   ]
  },
  {
   "cell_type": "code",
   "execution_count": 73,
   "metadata": {},
   "outputs": [
    {
     "name": "stdout",
     "output_type": "stream",
     "text": [
      "\n",
      "Making a 16-inch pizza with the following toppings:\n",
      "- pepperoni\n",
      "\n",
      "Making a 18-inch pizza with the following toppings:\n",
      "- pepperoni\n",
      "- mushroom\n",
      "- extra cheese\n"
     ]
    }
   ],
   "source": [
    "#mixing positional and arbtitrary arguments\n",
    "def make_pizza(*toppings,size):\n",
    "    print(f\"\\nMaking a {size}-inch pizza with the following toppings:\")\n",
    "    for topping in toppings:\n",
    "      print(f\"- {topping}\")\n",
    "\n",
    "make_pizza(\"pepperoni\",size=16)\n",
    "make_pizza(\"pepperoni\",\"mushroom\",\"extra cheese\",size=18)     "
   ]
  }
 ],
 "metadata": {
  "interpreter": {
   "hash": "66d20474a42c598064e4631ab4cf6e4658baa00707e682b325cee07a1775202e"
  },
  "kernelspec": {
   "display_name": "Python 3.9.5 ('basic_python')",
   "language": "python",
   "name": "python3"
  },
  "language_info": {
   "codemirror_mode": {
    "name": "ipython",
    "version": 3
   },
   "file_extension": ".py",
   "mimetype": "text/x-python",
   "name": "python",
   "nbconvert_exporter": "python",
   "pygments_lexer": "ipython3",
   "version": "3.9.7"
  },
  "orig_nbformat": 4
 },
 "nbformat": 4,
 "nbformat_minor": 2
}

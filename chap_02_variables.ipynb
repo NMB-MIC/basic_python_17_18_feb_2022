{
 "cells": [
  {
   "cell_type": "markdown",
   "metadata": {},
   "source": [
    "## Variable"
   ]
  },
  {
   "cell_type": "code",
   "execution_count": 33,
   "metadata": {},
   "outputs": [
    {
     "name": "stdout",
     "output_type": "stream",
     "text": [
      "hello\n"
     ]
    }
   ],
   "source": [
    "# variable\n",
    "print(\"hello\")"
   ]
  },
  {
   "cell_type": "code",
   "execution_count": 34,
   "metadata": {},
   "outputs": [
    {
     "name": "stdout",
     "output_type": "stream",
     "text": [
      "Hello world_1\n"
     ]
    }
   ],
   "source": [
    "# variable\n",
    "message = \"Hello world_1\"\n",
    "\n",
    "print(message)"
   ]
  },
  {
   "cell_type": "code",
   "execution_count": 35,
   "metadata": {},
   "outputs": [
    {
     "name": "stdout",
     "output_type": "stream",
     "text": [
      "Hello world\n",
      "Hello world_python\n"
     ]
    }
   ],
   "source": [
    "#update a value\n",
    "message = \"Hello world\"\n",
    "print(message)\n",
    "\n",
    "message = \"Hello world_python\"\n",
    "print(message)"
   ]
  },
  {
   "cell_type": "markdown",
   "metadata": {},
   "source": [
    "## String"
   ]
  },
  {
   "cell_type": "code",
   "execution_count": 36,
   "metadata": {},
   "outputs": [
    {
     "name": "stdout",
     "output_type": "stream",
     "text": [
      "suraphop bunsawat\n",
      "<class 'str'>\n",
      "Suraphop Bunsawat\n",
      "SURAPHOP BUNSAWAT\n",
      "suraphop bunsawat\n"
     ]
    }
   ],
   "source": [
    "name = \"suraphop bunsawat\" \n",
    "print(name)\n",
    "print(type(name))\n",
    "\n",
    "#function case\n",
    "print(name.title())\n",
    "print(name.upper())\n",
    "print(name.lower())"
   ]
  },
  {
   "cell_type": "code",
   "execution_count": 47,
   "metadata": {},
   "outputs": [
    {
     "name": "stdout",
     "output_type": "stream",
     "text": [
      "Suraphop Bunsawat\n",
      "Suraphop Bunsawat\n"
     ]
    }
   ],
   "source": [
    "#f-string function\n",
    "first_name = \"suraphop\"\n",
    "last_name = \"bunsawat\"\n",
    "\n",
    "full_name = first_name+\" \"+last_name\n",
    "print(full_name.title())\n",
    "\n",
    "full_name = f\"{first_name} {last_name}\"\n",
    "print(full_name.title())"
   ]
  },
  {
   "cell_type": "code",
   "execution_count": 38,
   "metadata": {},
   "outputs": [],
   "source": [
    "#naming\n",
    "#1_sdf = \"dsfdfs\"\n",
    "#asd sdf = \"sdfsdf\"\n",
    "sdff_1 = \"sdfsf\"\n",
    "#print = \"sdfsdf\""
   ]
  },
  {
   "cell_type": "code",
   "execution_count": 39,
   "metadata": {},
   "outputs": [
    {
     "name": "stdout",
     "output_type": "stream",
     "text": [
      "I told my fri, \"Hello\"\n"
     ]
    }
   ],
   "source": [
    "#single qu\n",
    "message = 'I told my fri, \"Hello\"'\n",
    "print(message)"
   ]
  },
  {
   "cell_type": "code",
   "execution_count": 40,
   "metadata": {},
   "outputs": [
    {
     "name": "stdout",
     "output_type": "stream",
     "text": [
      "python\n",
      "\tPython\n",
      "\t\tPython\n",
      "Languages:\n",
      "Python\n",
      "C\n",
      "\tLanguages: \n",
      "\tPython\n",
      "C\n"
     ]
    }
   ],
   "source": [
    "# tab & new line \n",
    "print(\"python\")\n",
    "print(\"\\tPython\")\n",
    "print(\"\\t\\tPython\")\n",
    "\n",
    "print(\"Languages:\\nPython\\nC\")\n",
    "\n",
    "print(\"\\tLanguages: \\n\\tPython\\nC\")"
   ]
  },
  {
   "cell_type": "code",
   "execution_count": 48,
   "metadata": {},
   "outputs": [
    {
     "name": "stdout",
     "output_type": "stream",
     "text": [
      "Count original : 8\n",
      "\n",
      "  python\n",
      "Count rstrip : 7\n",
      "\n",
      " python \n",
      "Count lstrip : 7\n",
      "\n",
      " python\n",
      "Count strip : 6\n"
     ]
    }
   ],
   "source": [
    "#stripping\n",
    "favorite_language = \" python \"\n",
    "print(\"Count original :\",len(favorite_language))\n",
    "#print(f\"Count original : {len(favorite_language)}\")\n",
    "\n",
    "print(\"\\n\",favorite_language.rstrip())\n",
    "print(\"Count rstrip :\",len(favorite_language.rstrip()))\n",
    "\n",
    "print(\"\\n\",favorite_language.lstrip())\n",
    "print(\"Count lstrip :\",len(favorite_language.lstrip()))\n",
    "\n",
    "print(\"\\n\",favorite_language.strip())\n",
    "print(\"Count strip :\",len(favorite_language.strip()))"
   ]
  }
 ],
 "metadata": {
  "interpreter": {
   "hash": "66d20474a42c598064e4631ab4cf6e4658baa00707e682b325cee07a1775202e"
  },
  "kernelspec": {
   "display_name": "Python 3.9.5 ('basic_python')",
   "language": "python",
   "name": "python3"
  },
  "language_info": {
   "codemirror_mode": {
    "name": "ipython",
    "version": 3
   },
   "file_extension": ".py",
   "mimetype": "text/x-python",
   "name": "python",
   "nbconvert_exporter": "python",
   "pygments_lexer": "ipython3",
   "version": "3.9.7"
  },
  "orig_nbformat": 4
 },
 "nbformat": 4,
 "nbformat_minor": 2
}

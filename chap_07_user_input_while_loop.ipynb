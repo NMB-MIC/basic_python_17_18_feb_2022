{
 "cells": [
  {
   "cell_type": "markdown",
   "metadata": {},
   "source": [
    "## input()"
   ]
  },
  {
   "cell_type": "code",
   "execution_count": null,
   "metadata": {},
   "outputs": [],
   "source": [
    "#simple input\n",
    "message = \"Tell me something, and I will return to you\"\n",
    "prompt = input(message)\n",
    "\n",
    "print(prompt)"
   ]
  },
  {
   "cell_type": "code",
   "execution_count": null,
   "metadata": {},
   "outputs": [],
   "source": [
    "#simple input(2)\n",
    "message = \"Tell me something\"\n",
    "message += \", and I will return to you:\"\n",
    "prompt = input(message)\n",
    "\n",
    "print(prompt)"
   ]
  },
  {
   "cell_type": "code",
   "execution_count": null,
   "metadata": {},
   "outputs": [],
   "source": [
    "age = input(\"How old are you?\")\n",
    "print(age)\n",
    "print(type(age))\n",
    "print(type(int(age)))\n",
    "\n",
    "int(age) >= 10"
   ]
  },
  {
   "cell_type": "markdown",
   "metadata": {},
   "source": [
    "#### Example\n",
    "problem : input number and checking, even or odd ?\n",
    "- even --> print number is even\n",
    "- odd --> print number is odd"
   ]
  },
  {
   "cell_type": "code",
   "execution_count": null,
   "metadata": {},
   "outputs": [],
   "source": [
    "number = input(\"Enter a number\")\n",
    "if number.isnumeric():\n",
    "    number = int(number)\n",
    "    if number % 2 == 0:\n",
    "        print(f\"\\nThe number {number} is even.\")\n",
    "    else:\n",
    "        print(f\"\\nThe number {number} is odd.\")\n",
    "else:\n",
    "    print(\"You have to input a number\")"
   ]
  },
  {
   "cell_type": "markdown",
   "metadata": {},
   "source": [
    "## While Loop"
   ]
  },
  {
   "cell_type": "code",
   "execution_count": null,
   "metadata": {},
   "outputs": [],
   "source": [
    "#while loop in action\n",
    "current_number = 1\n",
    "\n",
    "while current_number < 5:\n",
    "    print(current_number)\n",
    "    current_number += 1"
   ]
  },
  {
   "cell_type": "code",
   "execution_count": null,
   "metadata": {},
   "outputs": [],
   "source": [
    "#letting the user choose when to quit\n",
    "message = \"\"\n",
    "prompt = \"\\nTell me something, and I will return to you\"\n",
    "\n",
    "while message != 'quit':\n",
    "    message = input(prompt)\n",
    "    print(message)"
   ]
  },
  {
   "cell_type": "code",
   "execution_count": null,
   "metadata": {},
   "outputs": [],
   "source": [
    "#using flag\n",
    "message = \"\"\n",
    "prompt = \"\\nTell me something, and I will return to you\"\n",
    "\n",
    "active = True\n",
    "while active:\n",
    "    message = input(prompt)\n",
    "    if message == 'quit':\n",
    "        active = False\n",
    "    else:\n",
    "        print(message)"
   ]
  },
  {
   "cell_type": "code",
   "execution_count": null,
   "metadata": {},
   "outputs": [],
   "source": [
    "#using break exit the loop\n",
    "message = \"\"\n",
    "prompt = \"\\nTell me something, and I will return to you\"\n",
    "while True:\n",
    "    message = input(prompt)\n",
    "    if message == 'quit':\n",
    "        break\n",
    "    else:\n",
    "        print(message)"
   ]
  },
  {
   "cell_type": "code",
   "execution_count": null,
   "metadata": {},
   "outputs": [],
   "source": [
    "#using continue in the loop\n",
    "current_number = 0\n",
    "while current_number < 10:\n",
    "    current_number +=1\n",
    "    if current_number % 2 == 0:\n",
    "        print(current_number)\n",
    "        continue\n",
    "        print(\"\\nloop\")"
   ]
  },
  {
   "cell_type": "code",
   "execution_count": null,
   "metadata": {},
   "outputs": [],
   "source": [
    "#avoiding infinite loop\n",
    "x = 1\n",
    "while x<=5:\n",
    "    print(x)\n",
    "    x += 1 #avoid"
   ]
  },
  {
   "cell_type": "markdown",
   "metadata": {},
   "source": [
    "## Using a while loop with lists and dictionaries"
   ]
  },
  {
   "cell_type": "code",
   "execution_count": null,
   "metadata": {},
   "outputs": [],
   "source": [
    "#moving items from one list to another\n",
    "unconfirmed_users = [\"alice\",\"brain\",\"candace\"]\n",
    "confirmed_users = []\n",
    "\n",
    "while unconfirmed_users:\n",
    "    current_user = unconfirmed_users.pop()\n",
    "    print(f\"Verifying user: {current_user.title()}\")\n",
    "    confirmed_users.append(current_user)\n",
    "\n",
    "print(\"\\nThe following users have been comfirmed: \")\n",
    "for confirmed_user in confirmed_users:\n",
    "    print(confirmed_user.title())"
   ]
  },
  {
   "cell_type": "code",
   "execution_count": null,
   "metadata": {},
   "outputs": [],
   "source": [
    "#removing all instances of specific values from a list\n",
    "pets = [\"dog\",\"cat\",\"goldfish\",\"cat\"]\n",
    "\n",
    "while \"cat\" in pets:\n",
    "    pets.remove(\"cat\")\n",
    "print(pets)\n"
   ]
  },
  {
   "cell_type": "markdown",
   "metadata": {},
   "source": [
    "#### Example\n",
    "problem: hiking poll\n",
    "\n",
    "- name\n",
    "- mountain's name\n",
    "- show the result"
   ]
  },
  {
   "cell_type": "code",
   "execution_count": 2,
   "metadata": {},
   "outputs": [
    {
     "name": "stdout",
     "output_type": "stream",
     "text": [
      "\n",
      "--- Poll Result ---\n",
      "Suraphop would like to climb Inthanon\n",
      "Preecha would like to climb Doi Suthep\n",
      "Van would like to climb Mon Jam\n"
     ]
    }
   ],
   "source": [
    "mountain_polls = {}\n",
    "\n",
    "polling_active = True\n",
    "\n",
    "while polling_active:\n",
    "    name = input(\"\\nWhat is your name? \")\n",
    "    mountain = input(\"Which mountain would you like to climb ?\")\n",
    "\n",
    "    mountain_polls[name] = mountain\n",
    "\n",
    "    repeat = input(\"Would you like to let another person? (yes/no)\")\n",
    "    if repeat == 'no':\n",
    "        polling_active = False\n",
    "    \n",
    "#result\n",
    "print(\"\\n--- Poll Result ---\")\n",
    "for name , mountain in mountain_polls.items():\n",
    "    print(f\"{name.title()} would like to climb {mountain.title()}\")"
   ]
  }
 ],
 "metadata": {
  "interpreter": {
   "hash": "66d20474a42c598064e4631ab4cf6e4658baa00707e682b325cee07a1775202e"
  },
  "kernelspec": {
   "display_name": "Python 3.9.5 ('basic_python')",
   "language": "python",
   "name": "python3"
  },
  "language_info": {
   "codemirror_mode": {
    "name": "ipython",
    "version": 3
   },
   "file_extension": ".py",
   "mimetype": "text/x-python",
   "name": "python",
   "nbconvert_exporter": "python",
   "pygments_lexer": "ipython3",
   "version": "3.9.7"
  },
  "orig_nbformat": 4
 },
 "nbformat": 4,
 "nbformat_minor": 2
}

{
 "cells": [
  {
   "cell_type": "markdown",
   "metadata": {},
   "source": [
    "## IF"
   ]
  },
  {
   "cell_type": "markdown",
   "metadata": {},
   "source": [
    "## Conditional test"
   ]
  },
  {
   "cell_type": "code",
   "execution_count": null,
   "metadata": {},
   "outputs": [],
   "source": [
    "#simple condition\n",
    "cars = [\"audi\",\"bmw\",\"subaru\",\"toyota\"]\n",
    "#print(cars)\n",
    "\n",
    "for car in cars:\n",
    "    if car == \"bmw\":\n",
    "        print(car.upper())\n",
    "    else:\n",
    "        print(car.title())"
   ]
  },
  {
   "cell_type": "code",
   "execution_count": null,
   "metadata": {},
   "outputs": [],
   "source": [
    "#condition test\n",
    "#true\n",
    "car = \"bmw\"\n",
    "print(car == \"bmw\")\n",
    "\n",
    "#false\n",
    "car = \"audi\"\n",
    "print(car == \"bmw\")"
   ]
  },
  {
   "cell_type": "code",
   "execution_count": null,
   "metadata": {},
   "outputs": [],
   "source": [
    "#ignoring case\n",
    "car = \"Audi\"\n",
    "print(car == \"audi\")\n",
    "print(car.lower() == \"audi\")"
   ]
  },
  {
   "cell_type": "code",
   "execution_count": null,
   "metadata": {},
   "outputs": [],
   "source": [
    "#checking for Inequality\n",
    "print(car != \"audi\")"
   ]
  },
  {
   "cell_type": "code",
   "execution_count": null,
   "metadata": {},
   "outputs": [],
   "source": [
    "#numberical conparisons\n",
    "age = 18\n",
    "print(age == 18)\n",
    "print(age < 21)\n",
    "print(age <= 21)\n",
    "print(age > 21)\n",
    "print(age >= 21)\n",
    "print(age != 21)"
   ]
  },
  {
   "cell_type": "code",
   "execution_count": 30,
   "metadata": {},
   "outputs": [
    {
     "name": "stdout",
     "output_type": "stream",
     "text": [
      "True\n",
      "True\n"
     ]
    }
   ],
   "source": [
    "#multiple conditions using  and , or \n",
    "age_0 = 22\n",
    "age_1 = 18\n",
    "age_2 = 15\n",
    "print(age_0 > 21 and age_1 >= 20 or age_2 > 13) #and\n",
    "print(age_0 > 21 or age_1 >= 20) #or"
   ]
  },
  {
   "cell_type": "code",
   "execution_count": 34,
   "metadata": {},
   "outputs": [
    {
     "name": "stdout",
     "output_type": "stream",
     "text": [
      "['mushrooms', 'onions', 'pineapple']\n",
      "True\n",
      "False\n"
     ]
    }
   ],
   "source": [
    "#check in lists\n",
    "requested_toppings = [\"mushrooms\",\"onions\",\"pineapple\"]\n",
    "print(requested_toppings)\n",
    "\n",
    "print(\"mushrooms\" in requested_toppings)\n",
    "print(\"pepperoni\" in requested_toppings)"
   ]
  },
  {
   "cell_type": "code",
   "execution_count": 37,
   "metadata": {},
   "outputs": [
    {
     "name": "stdout",
     "output_type": "stream",
     "text": [
      "True\n",
      "Marie, you can login!\n"
     ]
    }
   ],
   "source": [
    "#check not in lists\n",
    "banned_users = [\"anddrew\",\"carolina\",\"david\"]\n",
    "\n",
    "user = \"marie\"\n",
    "print(user not in banned_users)\n",
    "\n",
    "if user not in banned_users:\n",
    "    print(f\"{user.title()}, you can login!\")"
   ]
  },
  {
   "cell_type": "code",
   "execution_count": 38,
   "metadata": {},
   "outputs": [],
   "source": [
    "#Boonlean Expressions\n",
    "game_active = True\n",
    "game_active = False"
   ]
  },
  {
   "cell_type": "markdown",
   "metadata": {},
   "source": [
    "## If statements"
   ]
  },
  {
   "cell_type": "code",
   "execution_count": 42,
   "metadata": {},
   "outputs": [
    {
     "name": "stdout",
     "output_type": "stream",
     "text": [
      "You are old enough to vote!\n"
     ]
    }
   ],
   "source": [
    "#simple if-statement\n",
    "age = 25\n",
    "\n",
    "if age >= 20:\n",
    "    print(\"You are old enough to vote!\")"
   ]
  },
  {
   "cell_type": "code",
   "execution_count": 43,
   "metadata": {},
   "outputs": [
    {
     "name": "stdout",
     "output_type": "stream",
     "text": [
      "You are old enough to vote!\n"
     ]
    }
   ],
   "source": [
    "#if-else statement\n",
    "if age >= 20:\n",
    "    print(\"You are old enough to vote!\")\n",
    "else:\n",
    "    print(\"Sorry, you are too young to vote!\")"
   ]
  },
  {
   "cell_type": "code",
   "execution_count": 47,
   "metadata": {},
   "outputs": [
    {
     "name": "stdout",
     "output_type": "stream",
     "text": [
      "else\n"
     ]
    }
   ],
   "source": [
    "#if-elif-else chain\n",
    "age = 12 \n",
    "\n",
    "if age < 4:\n",
    "    print(\"4\")\n",
    "elif age < 8:\n",
    "    print(\"8\")\n",
    "else:\n",
    "    print(\"else\")"
   ]
  },
  {
   "cell_type": "code",
   "execution_count": 48,
   "metadata": {},
   "outputs": [
    {
     "name": "stdout",
     "output_type": "stream",
     "text": [
      "15\n"
     ]
    }
   ],
   "source": [
    "#multiple elif chian\n",
    "age = 12 \n",
    "\n",
    "if age < 4:\n",
    "    print(\"4\")\n",
    "elif age < 8:\n",
    "    print(\"8\")\n",
    "elif age < 15:\n",
    "    print(\"15\")    \n",
    "else:\n",
    "    print(\"else\")"
   ]
  },
  {
   "cell_type": "code",
   "execution_count": 49,
   "metadata": {},
   "outputs": [
    {
     "name": "stdout",
     "output_type": "stream",
     "text": [
      "15\n"
     ]
    }
   ],
   "source": [
    "#omit else blocks\n",
    "age = 12 \n",
    "\n",
    "if age < 4:\n",
    "    print(\"4\")\n",
    "elif age < 8:\n",
    "    print(\"8\")\n",
    "elif age < 15:\n",
    "    print(\"15\")   "
   ]
  },
  {
   "cell_type": "markdown",
   "metadata": {},
   "source": [
    "#### example\n",
    "problem: check  mushroom , pepperoni , extra chesse  in a list\n",
    "- if have, print \"adding that item\", but not ignoring"
   ]
  },
  {
   "cell_type": "code",
   "execution_count": 51,
   "metadata": {},
   "outputs": [
    {
     "name": "stdout",
     "output_type": "stream",
     "text": [
      "Adding mushrooms\n",
      "Adding extra cheese\n",
      "\n",
      "finish making your pizza\n"
     ]
    }
   ],
   "source": [
    "# mushroom , pepperoni , extra chesse \n",
    "\n",
    "requested_toppings = [\"mushrooms\",\"extra cheese\"]\n",
    "if \"mushrooms\" in requested_toppings:\n",
    "    print(\"Adding mushrooms\")\n",
    "if \"pepperoni\" in requested_toppings:\n",
    "    print(\"Adding pepperoni\")\n",
    "if \"extra cheese\" in requested_toppings:\n",
    "    print(\"Adding extra cheese\")\n",
    "\n",
    "print(\"\\nfinish making your pizza\")"
   ]
  },
  {
   "cell_type": "code",
   "execution_count": 54,
   "metadata": {},
   "outputs": [
    {
     "name": "stdout",
     "output_type": "stream",
     "text": [
      "adding mushrooms\n",
      "adding extra cheese\n",
      "Sorry, we are out of green peppers right now\n",
      "\n",
      " Finish making your pizza!\n"
     ]
    }
   ],
   "source": [
    "requested_toppings = [\"mushrooms\",\"extra cheese\",\"green peppers\"]\n",
    "\n",
    "for requested_topping in requested_toppings:\n",
    "    if requested_topping == \"green peppers\":\n",
    "        print(\"Sorry, we are out of green peppers right now\")\n",
    "    else:\n",
    "        print(f\"adding {requested_topping}\")\n",
    "\n",
    "print(\"\\n Finish making your pizza!\")"
   ]
  },
  {
   "cell_type": "code",
   "execution_count": 61,
   "metadata": {},
   "outputs": [
    {
     "name": "stdout",
     "output_type": "stream",
     "text": [
      "Empty requested topping\n"
     ]
    }
   ],
   "source": [
    "#checking list is not empty\n",
    "requested_toppings = []\n",
    "\n",
    "if requested_toppings:\n",
    "    for requested_topping in requested_toppings:\n",
    "        print(f\"adding {requested_topping}\")\n",
    "    print(\"\\n Finish making your pizza!\")\n",
    "else:\n",
    "    print(\"Empty requested topping\")"
   ]
  },
  {
   "cell_type": "markdown",
   "metadata": {},
   "source": [
    "#### example\n",
    "problem:  checking stock in avaible list\n",
    "\n",
    "- if have stock print adding that items\n",
    "- if not print out of items\n",
    "- finish print finish making your pizza\n"
   ]
  },
  {
   "cell_type": "code",
   "execution_count": 64,
   "metadata": {},
   "outputs": [
    {
     "name": "stdout",
     "output_type": "stream",
     "text": [
      "Adding mushrooms.\n",
      "Sorry, we dont' have french fries.\n",
      "Adding extra cheese.\n",
      "\n",
      " Finish making a pizza\n"
     ]
    }
   ],
   "source": [
    "#using multiple list\n",
    "availble_toppings = [\"mushrooms\",\"olives\",\"green peppers\",\"pepperoni\",\"pineapple\",\"extra cheese\"]\n",
    "requested_toppings = [\"mushrooms\",\"french fries\",\"extra cheese\"]\n",
    "\n",
    "for requested_topping in requested_toppings:\n",
    "    if requested_topping in availble_toppings:\n",
    "        print(f\"Adding {requested_topping}.\")\n",
    "    else:\n",
    "        print(f\"Sorry, we dont' have {requested_topping}.\")\n",
    "print(f\"\\n Finish making a pizza\")"
   ]
  }
 ],
 "metadata": {
  "interpreter": {
   "hash": "66d20474a42c598064e4631ab4cf6e4658baa00707e682b325cee07a1775202e"
  },
  "kernelspec": {
   "display_name": "Python 3.9.5 ('basic_python')",
   "language": "python",
   "name": "python3"
  },
  "language_info": {
   "codemirror_mode": {
    "name": "ipython",
    "version": 3
   },
   "file_extension": ".py",
   "mimetype": "text/x-python",
   "name": "python",
   "nbconvert_exporter": "python",
   "pygments_lexer": "ipython3",
   "version": "3.9.7"
  },
  "orig_nbformat": 4
 },
 "nbformat": 4,
 "nbformat_minor": 2
}

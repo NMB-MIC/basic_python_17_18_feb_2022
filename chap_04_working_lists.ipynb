{
 "cells": [
  {
   "cell_type": "markdown",
   "metadata": {},
   "source": [
    "## Working lists"
   ]
  },
  {
   "cell_type": "markdown",
   "metadata": {},
   "source": [
    "## Loopling through an entire list"
   ]
  },
  {
   "cell_type": "code",
   "execution_count": null,
   "metadata": {},
   "outputs": [],
   "source": [
    "magicians = [\"alice\",\"david\",\"carolina\"]\n",
    "print(magicians)"
   ]
  },
  {
   "cell_type": "code",
   "execution_count": null,
   "metadata": {},
   "outputs": [],
   "source": [
    "#looping with a list\n",
    "#print(magicians[0])\n",
    "for magician in magicians:\n",
    "    print(magician)"
   ]
  },
  {
   "cell_type": "code",
   "execution_count": null,
   "metadata": {},
   "outputs": [],
   "source": [
    "#do something work within the loop\n",
    "for magician in magicians:\n",
    "    print(f\"{magician.title()}, that was a great trick !!\")\n",
    "    #print(\"Thank you, every one.\") #within the loop\n",
    "print(\"Thank you, every one.\") # outer loop"
   ]
  },
  {
   "cell_type": "markdown",
   "metadata": {},
   "source": [
    "## Making numerical lists"
   ]
  },
  {
   "cell_type": "code",
   "execution_count": null,
   "metadata": {},
   "outputs": [],
   "source": [
    "#using the range()\n",
    "for value in range(1,6):\n",
    "    print(value)"
   ]
  },
  {
   "cell_type": "code",
   "execution_count": null,
   "metadata": {},
   "outputs": [],
   "source": [
    "#using range() with list\n",
    "number = list(range(1,6))\n",
    "print(number)"
   ]
  },
  {
   "cell_type": "code",
   "execution_count": null,
   "metadata": {},
   "outputs": [],
   "source": [
    "#even number\n",
    "even_numbers = list(range(2,11,2))\n",
    "print(\"\\neven number: \")\n",
    "print(even_numbers)"
   ]
  },
  {
   "cell_type": "markdown",
   "metadata": {},
   "source": [
    "#### example\n",
    "problem: 2 multiplication range 1-10 in a list"
   ]
  },
  {
   "cell_type": "code",
   "execution_count": null,
   "metadata": {},
   "outputs": [],
   "source": [
    "#squares\n",
    "squares =[]\n",
    "\n",
    "for value in range(1,11):\n",
    "    square = value **2\n",
    "    #print(square)\n",
    "    squares.append(square)\n",
    "print(squares)"
   ]
  },
  {
   "cell_type": "code",
   "execution_count": null,
   "metadata": {},
   "outputs": [],
   "source": [
    "# list comprehensions\n",
    "squares_compreh = [value**2 for value in range(1,11)] \n",
    "print(squares_compreh)"
   ]
  },
  {
   "cell_type": "code",
   "execution_count": null,
   "metadata": {},
   "outputs": [],
   "source": [
    "#simple statistics\n",
    "print(f\"min: {min(squares_compreh)}\")\n",
    "print(f\"max: {max(squares_compreh)}\")\n",
    "print(f\"sum: {sum(squares_compreh)}\")\n",
    "print(f\"count: {len(squares_compreh)}\")"
   ]
  },
  {
   "cell_type": "markdown",
   "metadata": {},
   "source": [
    "## Working with a part of list"
   ]
  },
  {
   "cell_type": "code",
   "execution_count": null,
   "metadata": {},
   "outputs": [],
   "source": [
    "#slicing a list\n",
    "players = [\"john\",\"martin\",\"harry\",\"ron\",\"thomas\"]\n",
    "print(players)\n",
    "\n",
    "print(players[0:4])\n",
    "print(players[:4])\n",
    "\n",
    "print(players[2:])\n",
    "\n",
    "print(players[1:5])\n",
    "\n",
    "print(players[-3:])"
   ]
  },
  {
   "cell_type": "code",
   "execution_count": null,
   "metadata": {},
   "outputs": [],
   "source": [
    "#looping \n",
    "i = 0\n",
    "for player in players[:3]:\n",
    "    print(f\"{i} --> {player.title()}\")\n",
    "    i += 1"
   ]
  },
  {
   "cell_type": "code",
   "execution_count": null,
   "metadata": {},
   "outputs": [],
   "source": [
    "#copying a list\n",
    "my_foods = [\"pizza\",\"falafel\",\"carrot cake\"]\n",
    "print(my_foods)\n",
    "\n",
    "#friend_foods = my_foods\n",
    "friend_foods = my_foods[:]\n",
    "\n",
    "print(f\"my food: {my_foods}\")\n",
    "print(f\"friend food: {friend_foods}\")\n",
    "\n",
    "#appending a list \n",
    "my_foods.append(\"cannoli\")\n",
    "friend_foods.append(\"ice cream\")\n",
    "\n",
    "print(f\"add more of my food: {my_foods}\")\n",
    "print(f\"add more of friend food: {friend_foods}\")"
   ]
  },
  {
   "cell_type": "markdown",
   "metadata": {},
   "source": [
    "## Tuple"
   ]
  },
  {
   "cell_type": "code",
   "execution_count": null,
   "metadata": {},
   "outputs": [],
   "source": [
    "#list\n",
    "dimensions = [100,50]\n",
    "print(dimensions)\n",
    "\n",
    "dimensions[0] = 250\n",
    "print(dimensions)\n",
    "\n",
    "#tuple\n",
    "# dimensions = (100,50)\n",
    "# dimensions[0] = 250\n"
   ]
  },
  {
   "cell_type": "code",
   "execution_count": 56,
   "metadata": {},
   "outputs": [
    {
     "name": "stdout",
     "output_type": "stream",
     "text": [
      "100\n",
      "50\n"
     ]
    }
   ],
   "source": [
    "#looping\n",
    "for dimension in dimensions:\n",
    "    print(dimension)"
   ]
  },
  {
   "cell_type": "code",
   "execution_count": 57,
   "metadata": {},
   "outputs": [
    {
     "name": "stdout",
     "output_type": "stream",
     "text": [
      "modified dimensions :\n",
      "400\n",
      "100\n"
     ]
    }
   ],
   "source": [
    "#write over a tuple\n",
    "dimensions = (400,100)\n",
    "print(\"modified dimensions :\")\n",
    "for dimension in dimensions:\n",
    "    print(dimension)"
   ]
  }
 ],
 "metadata": {
  "interpreter": {
   "hash": "66d20474a42c598064e4631ab4cf6e4658baa00707e682b325cee07a1775202e"
  },
  "kernelspec": {
   "display_name": "Python 3.9.5 ('basic_python')",
   "language": "python",
   "name": "python3"
  },
  "language_info": {
   "codemirror_mode": {
    "name": "ipython",
    "version": 3
   },
   "file_extension": ".py",
   "mimetype": "text/x-python",
   "name": "python",
   "nbconvert_exporter": "python",
   "pygments_lexer": "ipython3",
   "version": "3.9.7"
  },
  "orig_nbformat": 4
 },
 "nbformat": 4,
 "nbformat_minor": 2
}
